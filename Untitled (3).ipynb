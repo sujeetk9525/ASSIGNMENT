{
 "cells": [
  {
   "cell_type": "code",
   "execution_count": null,
   "id": "9a4f2d98-3fae-4d63-904e-c52baa0146a8",
   "metadata": {},
   "outputs": [],
   "source": [
    "What is Abstraction in OOps? Explain with an example.\n",
    "\n",
    "ANSWER - ABSTRACTION IS A PROCESS OF HIDING THE IMPLEMENTATION DETAILS AND SHOWING ONLY FUNCTIONALITY TO THEIR USER\n",
    "\n",
    "FOR EXAMPLE :- WE ARE ONLY CONCERNED ABOUT DRIVING THE CAR LIKE START/ STOP THE CAR, ACCELERATE / BREAK ETC.\n",
    "\n",
    "Q2. Differentiate between Abstraction and Encapsulation. Explain with an example.\n",
    "\n",
    "ANSWER - ABSTRACTION IS A FEATURE OF OOPS THAT HIDES THE UNNECESSARY DETAILS BUT SHOWS THE \n",
    "ESSENTIAL INFORMATION, ENCAPSULATION IS ALSO A FEATURE OF OOPS, IT HIDES THE CODE AND DATE \n",
    "INTO A SINGLE ENTITY OR UNIT THAT THE DATA CAN BE PROTECTED FROM THE OUTSIDE WORLD.\n",
    "\n",
    "Q3. What is abc module in python? Why is it used?\n",
    "\n",
    "ANSWER - ABC STANDS FOR ( ABSTRACT BASE CLASS ) ABC MODULE PYTHON PROVIDES AN EASY\n",
    "WAY OF CREATING AN ABSTRACT BASE CLASS THROUGH A BUILD - IN MODULE.\n",
    "\n",
    "Q4. How can we achieve data abstraction?\n",
    "\n",
    "ANSWER - ABSTRACTION IS ACHIEVED BY HAVING IMPLEMENTATIONS WITH CONCRETE METHODS\n",
    "FULL ABSTRACTION IS ACHIEVED USING INTERFACE WITH ABSTRACT TYPES THAT SPECIFY A CLASS.\n",
    "\n",
    "Q5. Can we create an instance of an abstract class? Explain your answer.\n",
    "\n",
    "ANSWER - WE CANNOT INSTANTIATE AN ABSTRACT CLASS BECAUSE IT IS ABSTRACT IT IS NOT COMPLETE HENCE IT CANNOT BE USED.\n",
    "\n",
    "\n",
    "\n"
   ]
  }
 ],
 "metadata": {
  "kernelspec": {
   "display_name": "Python 3 (ipykernel)",
   "language": "python",
   "name": "python3"
  },
  "language_info": {
   "codemirror_mode": {
    "name": "ipython",
    "version": 3
   },
   "file_extension": ".py",
   "mimetype": "text/x-python",
   "name": "python",
   "nbconvert_exporter": "python",
   "pygments_lexer": "ipython3",
   "version": "3.10.8"
  }
 },
 "nbformat": 4,
 "nbformat_minor": 5
}
